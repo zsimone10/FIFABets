{
 "cells": [
  {
   "cell_type": "code",
   "execution_count": 63,
   "metadata": {
    "collapsed": true
   },
   "outputs": [],
   "source": [
    "import pandas as pd\n",
    "import numpy as np"
   ]
  },
  {
   "cell_type": "code",
   "execution_count": 64,
   "metadata": {
    "collapsed": true
   },
   "outputs": [],
   "source": [
    "cols_to_normalize = ['__home_buildUpPlaySpeed', '__home_buildUpPlayDribbling',\n",
    "                     '__home_buildUpPlayPassing',\n",
    "                     '__home_chanceCreationPassing', '__home_chanceCreationCrossing',\n",
    "                     '__home_chanceCreationShooting', '__home_defencePressure',\n",
    "                     '__home_defenceAggression', '__home_defenceTeamWidth',\n",
    "                     '__away_buildUpPlaySpeed', \n",
    "                     '__away_buildUpPlayDribbling', '__away_buildUpPlayPassing',\n",
    "                     '__away_chanceCreationPassing', '__away_chanceCreationCrossing',\n",
    "                     '__away_chanceCreationShooting', '__away_defencePressure',\n",
    "                     '__away_defenceAggression', '__away_defenceTeamWidth']\n",
    "\n",
    "most_matches = pd.read_csv('most_seasons_unnormalized.csv')\n",
    "recent_matches = pd.read_csv('recent_seasons_unnormalized.csv')\n",
    "\n",
    "most_matches = most_matches.fillna(np.nan)\n",
    "most_matches = most_matches.replace(-1, np.nan)\n",
    "\n",
    "recent_matches = recent_matches.fillna(np.nan)\n",
    "recent_matches = recent_matches.replace(-1, np.nan)"
   ]
  },
  {
   "cell_type": "code",
   "execution_count": 65,
   "metadata": {
    "collapsed": true
   },
   "outputs": [],
   "source": [
    "most_matches_normed = most_matches.copy()\n",
    "recent_matches_normed = recent_matches.copy()\n",
    "\n",
    "# Normalize columns\n",
    "# ###################\n",
    "for column in cols_to_normalize:\n",
    "    most_col = np.array(most_matches[column].values.astype(np.float))\n",
    "    recent_col = np.array(recent_matches[column].values.astype(np.float))\n",
    "    min_ = min(most_col[~np.isnan(most_col)].min(), recent_col[~np.isnan(recent_col)].min())\n",
    "    max_ = max(most_col[~np.isnan(most_col)].max(), recent_col[~np.isnan(recent_col)].max())\n",
    "    most_matches_normed[column] = (most_col - min_) / (max_ - min_)\n",
    "    recent_matches_normed[column] = (recent_col - min_) / (max_ - min_)\n"
   ]
  },
  {
   "cell_type": "code",
   "execution_count": null,
   "metadata": {
    "collapsed": true
   },
   "outputs": [],
   "source": [
    "most_matches_normed = most_matches_normed.fillna(-1)\n",
    "recent_matches_normed = recent_matches_normed.fillna(-1)\n",
    "\n",
    "most_matches_normed.to_csv('most_seasons_normalized.csv')\n",
    "recent_matches_normed.to_csv('recent_seasons_normalized.csv')"
   ]
  },
  {
   "cell_type": "code",
   "execution_count": null,
   "metadata": {
    "collapsed": true
   },
   "outputs": [],
   "source": []
  }
 ],
 "metadata": {
  "kernelspec": {
   "display_name": "Python 3",
   "language": "python",
   "name": "python3"
  },
  "language_info": {
   "codemirror_mode": {
    "name": "ipython",
    "version": 3
   },
   "file_extension": ".py",
   "mimetype": "text/x-python",
   "name": "python",
   "nbconvert_exporter": "python",
   "pygments_lexer": "ipython3",
   "version": "3.6.3"
  }
 },
 "nbformat": 4,
 "nbformat_minor": 2
}
