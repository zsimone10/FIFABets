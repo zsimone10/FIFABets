{
 "cells": [
  {
   "cell_type": "code",
   "execution_count": 7,
   "metadata": {
    "collapsed": true
   },
   "outputs": [],
   "source": [
    "import numpy as np\n",
    "import pandas as pd\n",
    "import sqlite3 as sq\n",
    "import time\n",
    "import math\n",
    "import re\n",
    "from sklearn import preprocessing\n",
    "import datetime"
   ]
  },
  {
   "cell_type": "code",
   "execution_count": 8,
   "metadata": {
    "collapsed": true
   },
   "outputs": [],
   "source": [
    "#just reading data\n",
    "con = sq.connect(\"database.sqlite\")\n",
    "team_atts = pd.read_sql_query(\"SELECT * from Team_Attributes\", con)\n",
    "teams = pd.read_sql_query(\"SELECT * from Team\", con)\n",
    "matches = pd.read_sql_query(\"SELECT * from Match\", con)\n",
    "\n",
    "original_matches = matches.copy()\n",
    "\n",
    "matches = matches[['date', 'season', 'home_team_goal', 'away_team_goal', 'home_team_api_id', 'away_team_api_id', \n",
    "                  'goal', 'shoton', 'shotoff', 'foulcommit', 'card', 'cross', 'corner', 'possession',\n",
    "                  'B365H', 'B365D', 'B365A', 'BWH', 'BWD', 'BWA', 'IWH', 'IWD', 'IWA', 'LBH', 'LBD',\n",
    "                  'LBA', 'PSH', 'PSD', 'PSA', 'WHH', 'WHD', 'WHA', 'SJH', 'SJD', 'SJA', 'VCH', 'VCD',\n",
    "                  'VCA', 'GBH', 'GBD', 'GBA', 'BSH', 'BSD', 'BSA']]\n",
    "\n",
    "attr_dates = pd.DataFrame(columns=['date', 'year', 'month'])\n",
    "attr_dates['date'] = pd.to_datetime(team_atts['date'])\n",
    "attr_dates['year'] = [attr_date.year for attr_date in attr_dates['date']]\n",
    "attr_dates['month'] = [attr_date.month for attr_date in attr_dates['date']]"
   ]
  },
  {
   "cell_type": "code",
   "execution_count": 9,
   "metadata": {},
   "outputs": [
    {
     "name": "stdout",
     "output_type": "stream",
     "text": [
      "total input rows: 25978\n",
      "num lacking any team attribute data: 7785\n",
      "num where >15% of team data is None: 11762\n",
      "num where >15% of team attribute data is None: 0\n",
      "Took 448.40 seconds.\n"
     ]
    }
   ],
   "source": [
    "buildUpPlaySpeed = {'Slow': 0, 'Balanced': 1, 'Fast': 2}\n",
    "\n",
    "st = time.time()\n",
    "\n",
    "denom = len(matches.columns.values)\n",
    "\n",
    "\n",
    "### Add blank columns for team attributes to be filled in for each match\n",
    "for column in list(team_atts.columns.values):\n",
    "    matches['__home_' + column] = np.nan\n",
    "    \n",
    "for column in list(team_atts.columns.values):\n",
    "    matches['__away_' + column] = np.nan\n",
    "\n",
    "### To assist in filling values later (note the underscores leading __underscoes added above & used here \n",
    "### so we don't collide with existing column names)\n",
    "home_column_indexes = [matches.columns.get_loc('__home_' + col_name) for col_name in team_atts.columns.values]\n",
    "away_column_indexes = [matches.columns.get_loc('__away_' + col_name) for col_name in team_atts.columns.values]\n",
    "indexes_to_drop = []\n",
    "\n",
    "## Part of experiments described below\n",
    "n_15_none_match = 0\n",
    "n_15_none_team_att = 0\n",
    "\n",
    "for index, match in matches.iterrows():\n",
    "    ### For each match, we find the home and away team for the correct year, and add their data to the \n",
    "    ### dataframe\n",
    "    match_years = [int(year) for year in match['season'].split('/')]\n",
    "    home_team_id = match['home_team_api_id']\n",
    "    away_team_id = match['away_team_api_id']\n",
    "    home_team_atts = team_atts.loc[team_atts['team_api_id'] == home_team_id]\n",
    "    away_team_atts = team_atts.loc[team_atts['team_api_id'] == away_team_id]\n",
    "    \n",
    "    def date_matches(match_years):\n",
    "        return (((attr_dates['year'] == match_years[0]) & (attr_dates['month'] >= 7)) | \n",
    "                ((attr_dates['year'] == match_years[1]) & (attr_dates['month'] < 7)))\n",
    "\n",
    "    home_team_att = home_team_atts.loc[date_matches(match_years)]\n",
    "    away_team_att = away_team_atts.loc[date_matches(match_years)]\n",
    "    \n",
    "    \n",
    "    ### This is just an experiment to determine a threshold for how many values should be 'None'\n",
    "    ### in match data in order for us to drop a row. To drop a row, add its index to \"indexes_to_drop\"\n",
    "    ### if too many values are 'None'\n",
    "    pct_match_none = sum(1 for val in match.values if val is None) / denom\n",
    "    if pct_match_none > 0.15:\n",
    "        n_15_none_match += 1\n",
    "\n",
    "    if not home_team_att.empty and not away_team_att.empty:\n",
    "        matches.iloc[index, home_column_indexes] = home_team_att.values[0]\n",
    "        matches.iloc[index, away_column_indexes] = away_team_att.values[0]\n",
    "        \n",
    "        \n",
    "        ### This is just an experiment to determine a threshold for how many values should be 'None'\n",
    "        ### in team attribute data in order for us to drop a row. To drop a row, add its index to \"indexes_to_drop\"\n",
    "        ### if too many values are 'None'\n",
    "        pct_home_none = sum(1 for val in home_team_att.values[0] if val is None) / len(home_team_att.values)\n",
    "        pct_away_none = sum(1 for val in away_team_att.values[0] if val is None) / len(away_team_att.values)\n",
    "        if pct_home_none > 0.15 or pct_away_none > 0.3:\n",
    "            n_15_none_team_att += 1\n",
    "        \n",
    "    else:\n",
    "        indexes_to_drop.append(index)\n",
    "\n",
    "### Part of our experiments\n",
    "n_rows = index\n",
    "print('total input rows:', n_rows)\n",
    "print('num lacking any team attribute data:', len(indexes_to_drop))\n",
    "print('num where >15% of team data is None:', n_15_none_match)\n",
    "print('num where >15% of team attribute data is None:', n_15_none_team_att)\n",
    "\n",
    "matches = matches.drop(indexes_to_drop, axis=0) ### Drops rows that lack too much data\n",
    "\n",
    "print('Took {0:.2f} seconds.'.format(time.time() - st))"
   ]
  },
  {
   "cell_type": "code",
   "execution_count": 10,
   "metadata": {
    "collapsed": true
   },
   "outputs": [],
   "source": [
    "#drop first 13 of matches:\n",
    "matches = matches.drop(['date', 'season', 'home_team_goal', 'away_team_goal' ,'home_team_api_id',\n",
    " 'away_team_api_id', 'goal', 'shoton' ,'shotoff', 'foulcommit', 'card', 'cross',\n",
    " 'corner', 'possession'], axis=1)"
   ]
  },
  {
   "cell_type": "code",
   "execution_count": 11,
   "metadata": {
    "collapsed": true
   },
   "outputs": [],
   "source": [
    "#Enumerate the columns if they have string values\n",
    "newCol = {}\n",
    "for col in matches.columns.values:\n",
    "    if re.search('Class', col):\n",
    "            #print(col, matches[col])\n",
    "            #enum_dict = dict(enumerate(list(set(matches[col]))))\n",
    "            enum_dict = { k: v for v, k in dict(enumerate(list(set(matches[col])))).items()}\n",
    "            #print(col, enum_dict)\n",
    "            #print(matches[col])\n",
    "            newCol[col] = matches[col].map(enum_dict)\n",
    "#print(newCol['__home_buildUpPlaySpeedClass'])\n",
    "for colName in newCol.keys():\n",
    "    matches[colName] = newCol[colName]"
   ]
  },
  {
   "cell_type": "code",
   "execution_count": 12,
   "metadata": {
    "collapsed": true
   },
   "outputs": [],
   "source": [
    "# Get rid of cols missing betting odds\n",
    "to_remove = []\n",
    "columns = matches.columns.values[:30]\n",
    "for index, match in matches.iterrows():\n",
    "    n_missing = 0\n",
    "    for col in columns: \n",
    "        if pd.isnull(match[col]):\n",
    "            n_missing += 1\n",
    "    if n_missing >= 15:\n",
    "        to_remove.append(index)\n",
    "        \n",
    "matches = matches.drop(to_remove, axis=0)\n",
    "matches = matches.drop(['__home_id', '__home_team_api_id', '__away_id', '__away_team_api_id'], axis=1)"
   ]
  },
  {
   "cell_type": "code",
   "execution_count": 13,
   "metadata": {},
   "outputs": [
    {
     "name": "stdout",
     "output_type": "stream",
     "text": [
      "['B365H' 'B365D' 'B365A' 'BWH' 'BWD' 'BWA' 'IWH' 'IWD' 'IWA' 'LBH' 'LBD'\n",
      " 'LBA' 'PSH' 'PSD' 'PSA' 'WHH' 'WHD' 'WHA' 'SJH' 'SJD' 'SJA' 'VCH' 'VCD'\n",
      " 'VCA' 'GBH' 'GBD' 'GBA' 'BSH' 'BSD' 'BSA' '__home_team_fifa_api_id'\n",
      " '__home_buildUpPlaySpeed' '__home_buildUpPlaySpeedClass'\n",
      " '__home_buildUpPlayDribbling' '__home_buildUpPlayDribblingClass'\n",
      " '__home_buildUpPlayPassing' '__home_buildUpPlayPassingClass'\n",
      " '__home_buildUpPlayPositioningClass' '__home_chanceCreationPassing'\n",
      " '__home_chanceCreationPassingClass' '__home_chanceCreationCrossing'\n",
      " '__home_chanceCreationCrossingClass' '__home_chanceCreationShooting'\n",
      " '__home_chanceCreationShootingClass'\n",
      " '__home_chanceCreationPositioningClass' '__home_defencePressure'\n",
      " '__home_defencePressureClass' '__home_defenceAggression'\n",
      " '__home_defenceAggressionClass' '__home_defenceTeamWidth'\n",
      " '__home_defenceTeamWidthClass' '__home_defenceDefenderLineClass'\n",
      " '__away_team_fifa_api_id' '__away_buildUpPlaySpeed'\n",
      " '__away_buildUpPlaySpeedClass' '__away_buildUpPlayDribbling'\n",
      " '__away_buildUpPlayDribblingClass' '__away_buildUpPlayPassing'\n",
      " '__away_buildUpPlayPassingClass' '__away_buildUpPlayPositioningClass'\n",
      " '__away_chanceCreationPassing' '__away_chanceCreationPassingClass'\n",
      " '__away_chanceCreationCrossing' '__away_chanceCreationCrossingClass'\n",
      " '__away_chanceCreationShooting' '__away_chanceCreationShootingClass'\n",
      " '__away_chanceCreationPositioningClass' '__away_defencePressure'\n",
      " '__away_defencePressureClass' '__away_defenceAggression'\n",
      " '__away_defenceAggressionClass' '__away_defenceTeamWidth'\n",
      " '__away_defenceTeamWidthClass' '__away_defenceDefenderLineClass']\n"
     ]
    }
   ],
   "source": [
    "new_to_remove = []\n",
    "for col in matches.columns.values:\n",
    "    if re.search('date', col):\n",
    "        new_to_remove.append(col)\n",
    "matches = matches.drop(new_to_remove, axis=1)"
   ]
  },
  {
   "cell_type": "code",
   "execution_count": 14,
   "metadata": {
    "collapsed": true
   },
   "outputs": [],
   "source": [
    "filtered_og_matches = original_matches.copy()\n",
    "filtered_og_matches = filtered_og_matches.loc[matches.index.values]\n",
    "\n",
    "n_home_wins = len(filtered_og_matches[filtered_og_matches['home_team_goal'] > filtered_og_matches['away_team_goal']])\n",
    "n_draws = len(filtered_og_matches[filtered_og_matches['home_team_goal'] == filtered_og_matches['away_team_goal']])\n",
    "n_away_wins = len(filtered_og_matches[filtered_og_matches['home_team_goal'] < filtered_og_matches['away_team_goal']])\n",
    "n_games = len(filtered_og_matches)\n",
    "\n",
    "assert(n_games == n_home_wins + n_draws + n_away_wins)"
   ]
  },
  {
   "cell_type": "code",
   "execution_count": 15,
   "metadata": {},
   "outputs": [
    {
     "data": {
      "image/png": "[encoded data removed]",
      "text/plain": [
       "<matplotlib.figure.Figure at 0x113d89b70>"
      ]
     },
     "metadata": {},
     "output_type": "display_data"
    }
   ],
   "source": [
    "import matplotlib.pyplot as plt\n",
    "%matplotlib inline\n",
    " \n",
    "# Data to plot\n",
    "labels = 'Home Wins', 'Draws', 'Away Wins'\n",
    "sizes = [n_home_wins, n_draws, n_away_wins]\n",
    "colors = ['red', 'lightcoral', 'grey']\n",
    "explode = (0.1, 0, 0)  # explode 1st slice\n",
    " \n",
    "# Plot\n",
    "plt.pie(sizes, explode=explode, labels=labels, colors=colors,\n",
    "        autopct='%1.1f%%', shadow=True, startangle=140)\n",
    " \n",
    "plt.axis('equal')\n",
    "plt.savefig('games_pie_chart.png')\n",
    "plt.show()"
   ]
  },
  {
   "cell_type": "code",
   "execution_count": 46,
   "metadata": {},
   "outputs": [
    {
     "data": {
      "image/png": "[encoded data removed]",
      "text/plain": [
       "<matplotlib.figure.Figure at 0x115ab8780>"
      ]
     },
     "metadata": {},
     "output_type": "display_data"
    }
   ],
   "source": [
    "import seaborn as sns\n",
    "\n",
    "remapped = filtered_og_matches.copy()\n",
    "\n",
    "ids_to_leagues = {1: \"Belgium\\nJupiler\\nLeague\", 1729: \"England\\nPremier\\nLeague\", 4769: \"France\\nLigue 1\",\n",
    "                  7809: \"Germany 1.\\nBundesliga\", 10257: \"Italy\\nSerie A\", 13274: \"Netherlands\\nEredivisie\", \n",
    "                  15722: \"Poland\\nEkstraklasa\", 17642: \"Portugal\\nLiga ZON\\nSagres\", 19694: \"Scotland\\nPremier\\nLeague\",\n",
    "                  21518: \"Spain\\nLIGA\\nBBVA\", 24558: \"Switzerland\\nSuper\\nLeague\"\n",
    "                 }\n",
    "remapped['league_id'] = remapped['league_id'].map(ids_to_leagues)\n",
    "\n",
    "counts = remapped['league_id'].value_counts() #.hist() # pd.DataFrame.hist(remapped, column='league_id')\n",
    "\n",
    "plt.figure(figsize=(12,5))\n",
    "sns.barplot(counts.index, counts.values, alpha=0.8)\n",
    "plt.title('Leagues in Processed Dataset')\n",
    "plt.ylabel('Number of Matches', fontsize=12)\n",
    "plt.xlabel('League', fontsize=12)\n",
    "plt.show()"
   ]
  },
  {
   "cell_type": "code",
   "execution_count": null,
   "metadata": {
    "collapsed": true
   },
   "outputs": [],
   "source": []
  }
 ],
 "metadata": {
  "kernelspec": {
   "display_name": "Python 3",
   "language": "python",
   "name": "python3"
  },
  "language_info": {
   "codemirror_mode": {
    "name": "ipython",
    "version": 3
   },
   "file_extension": ".py",
   "mimetype": "text/x-python",
   "name": "python",
   "nbconvert_exporter": "python",
   "pygments_lexer": "ipython3",
   "version": "3.6.3"
  }
 },
 "nbformat": 4,
 "nbformat_minor": 2
}
