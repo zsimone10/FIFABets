{
 "cells": [
  {
   "cell_type": "code",
   "execution_count": 374,
   "metadata": {},
   "outputs": [],
   "source": [
    "import pandas as pd\n",
    "import numpy as np\n",
    "from network import Network"
   ]
  },
  {
   "cell_type": "code",
   "execution_count": 375,
   "metadata": {
    "collapsed": true
   },
   "outputs": [],
   "source": [
    "recent_matches = pd.read_csv('recent_seasons_unnormalized.csv')\n",
    "pca_matches = pd.read_csv('recent_seasons_PCA_99_pct_44_components.csv')\n",
    "labels = pd.read_csv('labels_recent_seasons.csv')\n",
    "\n",
    "recent_matches = recent_matches.replace(-1, np.nan)\n",
    "labels = labels.replace(-1, np.nan)"
   ]
  },
  {
   "cell_type": "code",
   "execution_count": 376,
   "metadata": {
    "collapsed": true
   },
   "outputs": [],
   "source": [
    "home_odds_labels = ['B365H', 'BWH', 'IWH', 'LBH', 'PSH', 'WHH', 'SJH', 'VCH', 'GBH', 'BSH']\n",
    "draw_odds_labels = ['B365D', 'BWD', 'IWD', 'LBD', 'PSD', 'WHD', 'SJD', 'VCD', 'GBD', 'BSD']\n",
    "away_odds_labels = ['B365A', 'BWA', 'IWA', 'LBA', 'PSA', 'WHA', 'SJA', 'VCA', 'GBA', 'BSA']\n",
    "all_odds_labels = [home_odds_labels, draw_odds_labels, away_odds_labels]\n",
    "combined_odds_labels = home_odds_labels + draw_odds_labels + away_odds_labels\n",
    "\n",
    "matches = recent_matches[combined_odds_labels]"
   ]
  },
  {
   "cell_type": "code",
   "execution_count": 377,
   "metadata": {
    "collapsed": true
   },
   "outputs": [],
   "source": [
    "# predictions = pd.DataFrame(columns=['home_prob', 'draw_prob', 'away_prob'])\n",
    "\n",
    "# for i in range(len(matches)):\n",
    "#     vals = np.array([np.random.rand() for i in range(3)])\n",
    "#     vals /= np.sum(vals)\n",
    "#     predictions.loc[i, 'home_prob'] = vals[0]\n",
    "#     predictions.loc[i, 'draw_prob'] = vals[1]\n",
    "#     predictions.loc[i, 'away_prob'] = vals[2]"
   ]
  },
  {
   "cell_type": "code",
   "execution_count": 378,
   "metadata": {},
   "outputs": [
    {
     "name": "stdout",
     "output_type": "stream",
     "text": [
      "BUILDING NETWORK...\n",
      "Data Dimension:  44\n",
      "ADDING REGULARIZATION...\n"
     ]
    },
    {
     "name": "stderr",
     "output_type": "stream",
     "text": [
      "/Users/canrobins13/Desktop/FIFABets/network.py:44: UserWarning: Update your `Dense` call to the Keras 2 API: `Dense(64, kernel_regularizer=<keras.reg...)`\n",
      "  Dense(64, W_regularizer=regularizers.l2(0.01)))\n"
     ]
    },
    {
     "name": "stdout",
     "output_type": "stream",
     "text": [
      "_________________________________________________________________\n",
      "Layer (type)                 Output Shape              Param #   \n",
      "=================================================================\n",
      "dense_286 (Dense)            (None, 512)               23040     \n",
      "_________________________________________________________________\n",
      "activation_286 (Activation)  (None, 512)               0         \n",
      "_________________________________________________________________\n",
      "dense_287 (Dense)            (None, 128)               65664     \n",
      "_________________________________________________________________\n",
      "activation_287 (Activation)  (None, 128)               0         \n",
      "_________________________________________________________________\n",
      "dense_288 (Dense)            (None, 128)               16512     \n",
      "_________________________________________________________________\n",
      "activation_288 (Activation)  (None, 128)               0         \n",
      "_________________________________________________________________\n",
      "dense_289 (Dense)            (None, 64)                8256      \n",
      "_________________________________________________________________\n",
      "activation_289 (Activation)  (None, 64)                0         \n",
      "_________________________________________________________________\n",
      "dense_290 (Dense)            (None, 3)                 195       \n",
      "_________________________________________________________________\n",
      "activation_290 (Activation)  (None, 3)                 0         \n",
      "=================================================================\n",
      "Total params: 113,667\n",
      "Trainable params: 113,667\n",
      "Non-trainable params: 0\n",
      "_________________________________________________________________\n",
      "None\n"
     ]
    }
   ],
   "source": [
    "BetNet = Network(pca_matches.shape[1])\n",
    "BetNet.load_weights(\"weights-improvement-100-0.52.hdf5\")  # Most recent weights\n",
    "\n",
    "predictions = pd.DataFrame(columns=['home_prob', 'draw_prob', 'away_prob'])\n",
    "\n",
    "for r, match in pca_matches.iterrows():\n",
    "    net_pred = BetNet.model.predict(np.array([match.values]))[0]\n",
    "    predictions.loc[r, 'home_prob'] = net_pred[0]\n",
    "    predictions.loc[r, 'draw_prob'] = net_pred[1]\n",
    "    predictions.loc[r, 'away_prob'] = net_pred[2]"
   ]
  },
  {
   "cell_type": "code",
   "execution_count": 379,
   "metadata": {},
   "outputs": [],
   "source": [
    "home_, draw_, away_ = (0, 1, 2)\n",
    "\n",
    "def get_result_corresponding_to_betting_org(org):\n",
    "    for result, odds_orgs in enumerate(all_odds_labels):\n",
    "        if org in odds_orgs:\n",
    "            return result\n",
    "\n",
    "\n",
    "def get_bet_org_highest_exp(odds, predictions):\n",
    "    best_exp, best_org, best_odds, chosen_result = 0, None, 0, None\n",
    "    for org, odds_ in odds.iteritems():\n",
    "        result = get_result_corresponding_to_betting_org(org)\n",
    "        exp = odds_ * predictions[result]\n",
    "        if exp > best_exp:\n",
    "            best_exp, best_org, best_odds, chosen_result = exp, org, odds_, result\n",
    "            \n",
    "    return chosen_result, best_org\n",
    "\n",
    "\n",
    "def get_bet_org_highest_prob(odds, predictions):\n",
    "    chosen_result = int(np.argmax(predictions.values))\n",
    "    best_org = pd.Series.argmax(odds[all_odds_labels[chosen_result]])\n",
    "    # print(best_org, ['home', 'draw', 'away'][chosen_result], odds[best_org])\n",
    "    return chosen_result, best_org\n",
    "    \n",
    "    \n",
    "def get_bet(odds, predictions, funds):\n",
    "    bet_side, bet_org = get_bet_org_highest_prob(odds, predictions) # get_bet_org_highest_exp(odds, predictions)\n",
    "    # bet_amount = np.sqrt(funds) * odds[bet_org] * predictions[bet_side]\n",
    "    bet_amount = funds / 10\n",
    "                      \n",
    "    return bet_amount, bet_side, bet_org\n",
    "\n",
    "\n",
    "def get_profit(bet_amount, bet_side, odds, labels_row):\n",
    "    if labels_row[bet_side]:\n",
    "        return bet_amount * odds - bet_amount\n",
    "    else:\n",
    "        return -bet_amount"
   ]
  },
  {
   "cell_type": "code",
   "execution_count": 380,
   "metadata": {
    "scrolled": false
   },
   "outputs": [
    {
     "ename": "TypeError",
     "evalue": "'float' object is not iterable",
     "output_type": "error",
     "traceback": [
      "\u001b[0;31m----------------------------------------------------------\u001b[0m",
      "\u001b[0;31mTypeError\u001b[0m                Traceback (most recent call last)",
      "\u001b[0;32m<ipython-input-380-d7bca5c29461>\u001b[0m in \u001b[0;36m<module>\u001b[0;34m()\u001b[0m\n\u001b[1;32m      5\u001b[0m \u001b[0;34m\u001b[0m\u001b[0m\n\u001b[1;32m      6\u001b[0m \u001b[0;32mfor\u001b[0m \u001b[0mr\u001b[0m \u001b[0;32min\u001b[0m \u001b[0mrange\u001b[0m\u001b[0;34m(\u001b[0m\u001b[0mlen\u001b[0m\u001b[0;34m(\u001b[0m\u001b[0mmatches\u001b[0m\u001b[0;34m)\u001b[0m\u001b[0;34m)\u001b[0m\u001b[0;34m:\u001b[0m\u001b[0;34m\u001b[0m\u001b[0m\n\u001b[0;32m----> 7\u001b[0;31m     \u001b[0mbet_amount\u001b[0m\u001b[0;34m,\u001b[0m \u001b[0mbet_side\u001b[0m\u001b[0;34m,\u001b[0m \u001b[0mbet_org\u001b[0m \u001b[0;34m=\u001b[0m \u001b[0mget_bet\u001b[0m\u001b[0;34m(\u001b[0m\u001b[0mmatches\u001b[0m\u001b[0;34m.\u001b[0m\u001b[0mloc\u001b[0m\u001b[0;34m[\u001b[0m\u001b[0mr\u001b[0m\u001b[0;34m]\u001b[0m\u001b[0;34m,\u001b[0m \u001b[0mpredictions\u001b[0m\u001b[0;34m.\u001b[0m\u001b[0mloc\u001b[0m\u001b[0;34m[\u001b[0m\u001b[0mr\u001b[0m\u001b[0;34m]\u001b[0m\u001b[0;34m,\u001b[0m \u001b[0mfunds\u001b[0m\u001b[0;34m)\u001b[0m\u001b[0;34m\u001b[0m\u001b[0m\n\u001b[0m\u001b[1;32m      8\u001b[0m     \u001b[0modds\u001b[0m \u001b[0;34m=\u001b[0m \u001b[0mmatches\u001b[0m\u001b[0;34m.\u001b[0m\u001b[0mloc\u001b[0m\u001b[0;34m[\u001b[0m\u001b[0mr\u001b[0m\u001b[0;34m,\u001b[0m \u001b[0mbet_org\u001b[0m\u001b[0;34m]\u001b[0m\u001b[0;34m\u001b[0m\u001b[0m\n\u001b[1;32m      9\u001b[0m     \u001b[0mprofit\u001b[0m \u001b[0;34m=\u001b[0m \u001b[0mget_profit\u001b[0m\u001b[0;34m(\u001b[0m\u001b[0mbet_amount\u001b[0m\u001b[0;34m,\u001b[0m \u001b[0mbet_side\u001b[0m\u001b[0;34m,\u001b[0m \u001b[0modds\u001b[0m\u001b[0;34m,\u001b[0m \u001b[0mlabels\u001b[0m\u001b[0;34m.\u001b[0m\u001b[0mloc\u001b[0m\u001b[0;34m[\u001b[0m\u001b[0mr\u001b[0m\u001b[0;34m]\u001b[0m\u001b[0;34m)\u001b[0m\u001b[0;34m\u001b[0m\u001b[0m\n",
      "\u001b[0;32m<ipython-input-379-d75668bf7e61>\u001b[0m in \u001b[0;36mget_bet\u001b[0;34m(odds, predictions, funds)\u001b[0m\n\u001b[1;32m     28\u001b[0m     \u001b[0mbet_side\u001b[0m\u001b[0;34m,\u001b[0m \u001b[0mbet_org\u001b[0m \u001b[0;34m=\u001b[0m \u001b[0mget_bet_org_highest_prob\u001b[0m\u001b[0;34m(\u001b[0m\u001b[0modds\u001b[0m\u001b[0;34m,\u001b[0m \u001b[0mpredictions\u001b[0m\u001b[0;34m)\u001b[0m \u001b[0;31m# get_bet_org_highest_exp(odds, predictions)\u001b[0m\u001b[0;34m\u001b[0m\u001b[0m\n\u001b[1;32m     29\u001b[0m     \u001b[0;31m# bet_amount = np.sqrt(funds) * odds[bet_org] * predictions[bet_side]\u001b[0m\u001b[0;34m\u001b[0m\u001b[0;34m\u001b[0m\u001b[0m\n\u001b[0;32m---> 30\u001b[0;31m     \u001b[0mbet_amount\u001b[0m \u001b[0;34m=\u001b[0m \u001b[0mmin\u001b[0m\u001b[0;34m(\u001b[0m\u001b[0mfunds\u001b[0m \u001b[0;34m/\u001b[0m \u001b[0;36m10\u001b[0m\u001b[0;34m)\u001b[0m\u001b[0;34m\u001b[0m\u001b[0m\n\u001b[0m\u001b[1;32m     31\u001b[0m \u001b[0;34m\u001b[0m\u001b[0m\n\u001b[1;32m     32\u001b[0m     \u001b[0;32mreturn\u001b[0m \u001b[0mbet_amount\u001b[0m\u001b[0;34m,\u001b[0m \u001b[0mbet_side\u001b[0m\u001b[0;34m,\u001b[0m \u001b[0mbet_org\u001b[0m\u001b[0;34m\u001b[0m\u001b[0m\n",
      "\u001b[0;31mTypeError\u001b[0m: 'float' object is not iterable"
     ]
    }
   ],
   "source": [
    "funds = 50\n",
    "initial_funds = funds\n",
    "\n",
    "n_correct = 0\n",
    "\n",
    "for r in range(len(matches)):\n",
    "    bet_amount, bet_side, bet_org = get_bet(matches.loc[r], predictions.loc[r], funds)\n",
    "    odds = matches.loc[r, bet_org]\n",
    "    profit = get_profit(bet_amount, bet_side, odds, labels.loc[r])\n",
    "#     print(funds, bet_amount, profit)\n",
    "    funds += profit\n",
    "\n",
    "    if funds < 1:\n",
    "        break\n",
    "\n",
    "    if profit > 0:\n",
    "        n_correct += 1    \n",
    "    \n",
    "profit = funds - initial_funds\n",
    "print('initial funds: ${:.2f}'.format(initial_funds))\n",
    "print('final funds: ${:.2f}'.format(funds))\n",
    "print('profit: ${0:.2f}'.format(profit))\n",
    "print('profit percent: {0:.2f}%'.format(profit * 100 / initial_funds))\n",
    "print('predicted {} of {} matches correctly'.format(n_correct, r))\n",
    "print('prediction percent: {0:.2f}%'.format(n_correct * 100 / r))\n",
    "print('lasted {} of {} matches before dropping below $1'.format(r, len(matches)))\n",
    "print('made it through {0:.2f}% of matches before dropping below 1 dollar'.format(100 * r / len(matches)))"
   ]
  },
  {
   "cell_type": "code",
   "execution_count": null,
   "metadata": {
    "collapsed": true
   },
   "outputs": [],
   "source": []
  }
 ],
 "metadata": {
  "kernelspec": {
   "display_name": "Python 3",
   "language": "python",
   "name": "python3"
  },
  "language_info": {
   "codemirror_mode": {
    "name": "ipython",
    "version": 3
   },
   "file_extension": ".py",
   "mimetype": "text/x-python",
   "name": "python",
   "nbconvert_exporter": "python",
   "pygments_lexer": "ipython3",
   "version": "3.6.3"
  }
 },
 "nbformat": 4,
 "nbformat_minor": 2
}
