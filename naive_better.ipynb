{
 "cells": [
  {
   "cell_type": "code",
   "execution_count": 357,
   "metadata": {
    "collapsed": true
   },
   "outputs": [],
   "source": [
    "import pandas as pd\n",
    "import numpy as np"
   ]
  },
  {
   "cell_type": "code",
   "execution_count": 358,
   "metadata": {
    "collapsed": true
   },
   "outputs": [],
   "source": [
    "recent_matches = pd.read_csv('recent_seasons_unnormalized.csv')\n",
    "labels = pd.read_csv('labels_recent_seasons.csv')\n",
    "\n",
    "recent_matches = recent_matches.replace(-1, np.nan)\n",
    "labels = labels.replace(-1, np.nan)"
   ]
  },
  {
   "cell_type": "code",
   "execution_count": 359,
   "metadata": {},
   "outputs": [],
   "source": [
    "home_odds_labels = ['B365H', 'BWH', 'IWH', 'LBH', 'PSH', 'WHH', 'SJH', 'VCH', 'GBH', 'BSH']\n",
    "draw_odds_labels = ['B365D', 'BWD', 'IWD', 'LBD', 'PSD', 'WHD', 'SJD', 'VCD', 'GBD', 'BSD']\n",
    "away_odds_labels = ['B365A', 'BWA', 'IWA', 'LBA', 'PSA', 'WHA', 'SJA', 'VCA', 'GBA', 'BSA']\n",
    "all_odds_labels = [home_odds_labels, draw_odds_labels, away_odds_labels]\n",
    "combined_odds_labels = home_odds_labels + draw_odds_labels + away_odds_labels\n",
    "\n",
    "matches = recent_matches[combined_odds_labels]"
   ]
  },
  {
   "cell_type": "code",
   "execution_count": 360,
   "metadata": {},
   "outputs": [],
   "source": [
    "predictions = pd.DataFrame(columns=['home_prob', 'draw_prob', 'away_prob'])\n",
    "\n",
    "for i in range(len(matches)):\n",
    "    vals = np.array([np.random.rand() for i in range(3)])\n",
    "    vals /= np.sum(vals)\n",
    "    predictions.loc[i, 'home_prob'] = vals[0]\n",
    "    predictions.loc[i, 'draw_prob'] = vals[1]\n",
    "    predictions.loc[i, 'away_prob'] = vals[2]"
   ]
  },
  {
   "cell_type": "code",
   "execution_count": 361,
   "metadata": {},
   "outputs": [],
   "source": [
    "home_, draw_, away_ = (0, 1, 2)\n",
    "\n",
    "def get_result_corresponding_to_betting_org(org):\n",
    "    for result, odds_orgs in enumerate(all_odds_labels):\n",
    "        if org in odds_orgs:\n",
    "            return result\n",
    "\n",
    "\n",
    "def get_bet_org(odds, predictions):\n",
    "    best_exp, best_org, best_odds, chosen_result = 0, None, 0, None\n",
    "    for org, odds_ in odds.iteritems():\n",
    "        result = get_result_corresponding_to_betting_org(org)\n",
    "        exp = odds_ * predictions[result]\n",
    "        if exp > best_exp:\n",
    "            best_exp, best_org, best_odds, chosen_result = exp, org, odds_, result\n",
    "            \n",
    "    return chosen_result, best_org\n",
    "    \n",
    "    \n",
    "def get_bet(odds, predictions, funds):\n",
    "    bet_side, bet_org = get_bet_org(odds, predictions)\n",
    "    bet_amount = np.sqrt(funds) * odds[bet_org] * predictions[bet_side]\n",
    "    bet_amount = min(funds/2, bet_amount)\n",
    "    \n",
    "    return bet_amount, bet_side, bet_org\n",
    "\n",
    "\n",
    "def get_profit(bet_amount, bet_side, odds, labels_row):\n",
    "    if labels_row[bet_side]:\n",
    "        return bet_amount * odds\n",
    "    else:\n",
    "        return -bet_amount"
   ]
  },
  {
   "cell_type": "code",
   "execution_count": 362,
   "metadata": {},
   "outputs": [
    {
     "name": "stdout",
     "output_type": "stream",
     "text": [
      "initial funds: $50.00\n",
      "final funds: $0.99\n",
      "profit: $-49.01\n",
      "profit percent: -98.03%\n",
      "predicted 1 of 12 matches correctly\n",
      "prediction percent: 8.33%\n",
      "lasted 12 of 520 matches before dropping below $1\n",
      "made it through 2.31% of matches before dropping below 1 dollar\n"
     ]
    }
   ],
   "source": [
    "funds = 50\n",
    "initial_funds = funds\n",
    "\n",
    "n_correct = 0\n",
    "\n",
    "for r in range(len(matches)):\n",
    "    bet_amount, bet_side, bet_org = get_bet(matches.loc[r], predictions.loc[r], funds)\n",
    "    odds =  matches.loc[r, bet_org]\n",
    "    profit = get_profit(bet_amount, bet_side, odds, labels.loc[r])\n",
    "    funds += profit\n",
    "    \n",
    "    if funds < 1:\n",
    "        break\n",
    "    \n",
    "    if profit > 0:\n",
    "        n_correct += 1\n",
    "    \n",
    "    \n",
    "profit = funds - initial_funds\n",
    "print('initial funds: ${:.2f}'.format(initial_funds))\n",
    "print('final funds: ${:.2f}'.format(funds))\n",
    "print('profit: ${0:.2f}'.format(profit))\n",
    "print('profit percent: {0:.2f}%'.format(profit * 100 / initial_funds))\n",
    "print('predicted {} of {} matches correctly'.format(n_correct, r))\n",
    "print('prediction percent: {0:.2f}%'.format(n_correct * 100 / r))\n",
    "print('lasted {} of {} matches before dropping below $1'.format(r, len(matches)))\n",
    "print('made it through {0:.2f}% of matches before dropping below 1 dollar'.format(100 * r / len(matches)))"
   ]
  },
  {
   "cell_type": "code",
   "execution_count": null,
   "metadata": {
    "collapsed": true
   },
   "outputs": [],
   "source": []
  }
 ],
 "metadata": {
  "kernelspec": {
   "display_name": "Python 3",
   "language": "python",
   "name": "python3"
  },
  "language_info": {
   "codemirror_mode": {
    "name": "ipython",
    "version": 3
   },
   "file_extension": ".py",
   "mimetype": "text/x-python",
   "name": "python",
   "nbconvert_exporter": "python",
   "pygments_lexer": "ipython3",
   "version": "3.6.3"
  }
 },
 "nbformat": 4,
 "nbformat_minor": 2
}
