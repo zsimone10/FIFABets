{
 "cells": [
  {
   "cell_type": "code",
   "execution_count": 33,
   "metadata": {},
   "outputs": [],
   "source": [
    "import pandas as pd\n",
    "import numpy as np\n",
    "from network import Network"
   ]
  },
  {
   "cell_type": "code",
   "execution_count": 34,
   "metadata": {
    "collapsed": true
   },
   "outputs": [],
   "source": [
    "recent_matches = pd.read_csv('data/recent_seasons_unnormalized.csv')\n",
    "pca_matches = pd.read_csv('data/recent_seasons_unnormalized.csv')\n",
    "labels = pd.read_csv('data/labels_recent_seasons.csv')\n",
    "\n",
    "recent_matches = recent_matches.replace(-1, np.nan)\n",
    "labels = labels.replace(-1, np.nan)"
   ]
  },
  {
   "cell_type": "code",
   "execution_count": 35,
   "metadata": {
    "collapsed": true
   },
   "outputs": [],
   "source": [
    "home_odds_labels = ['B365H', 'BWH', 'IWH', 'LBH', 'PSH', 'WHH', 'SJH', 'VCH', 'GBH', 'BSH']\n",
    "draw_odds_labels = ['B365D', 'BWD', 'IWD', 'LBD', 'PSD', 'WHD', 'SJD', 'VCD', 'GBD', 'BSD']\n",
    "away_odds_labels = ['B365A', 'BWA', 'IWA', 'LBA', 'PSA', 'WHA', 'SJA', 'VCA', 'GBA', 'BSA']\n",
    "all_odds_labels = [home_odds_labels, draw_odds_labels, away_odds_labels]\n",
    "combined_odds_labels = home_odds_labels + draw_odds_labels + away_odds_labels\n",
    "\n",
    "matches = recent_matches[combined_odds_labels]"
   ]
  },
  {
   "cell_type": "code",
   "execution_count": 36,
   "metadata": {},
   "outputs": [],
   "source": [
    "max_odds = pd.DataFrame(columns=['home_odds', 'draw_odds', 'away_odds'])\n",
    "for i, row in matches.iterrows():\n",
    "    max_odds.loc[i, 'home_odds'] = np.max(matches.loc[i, home_odds_labels])\n",
    "    max_odds.loc[i, 'draw_odds'] = np.max(matches.loc[i, draw_odds_labels])\n",
    "    max_odds.loc[i, 'away_odds'] = np.max(matches.loc[i, away_odds_labels])\n",
    "    \n",
    "# max_odds.to_csv('data/recent_seasons_max_odds.csv')"
   ]
  },
  {
   "cell_type": "code",
   "execution_count": 37,
   "metadata": {
    "collapsed": true
   },
   "outputs": [],
   "source": [
    "# predictions = pd.DataFrame(columns=['home_prob', 'draw_prob', 'away_prob'])\n",
    "\n",
    "# for i in range(len(matches)):\n",
    "#     vals = np.array([np.random.rand() for i in range(3)])\n",
    "#     vals /= np.sum(vals)\n",
    "#     predictions.loc[i, 'home_prob'] = vals[0]\n",
    "#     predictions.loc[i, 'draw_prob'] = vals[1]\n",
    "#     predictions.loc[i, 'away_prob'] = vals[2]"
   ]
  },
  {
   "cell_type": "code",
   "execution_count": 38,
   "metadata": {},
   "outputs": [
    {
     "name": "stdout",
     "output_type": "stream",
     "text": [
      "BUILDING NETWORK...\n",
      "Data Dimension:  74\n",
      "_________________________________________________________________\n",
      "Layer (type)                 Output Shape              Param #   \n",
      "=================================================================\n",
      "dense_21 (Dense)             (None, 512)               38400     \n",
      "_________________________________________________________________\n",
      "activation_21 (Activation)   (None, 512)               0         \n",
      "_________________________________________________________________\n",
      "dense_22 (Dense)             (None, 128)               65664     \n",
      "_________________________________________________________________\n",
      "activation_22 (Activation)   (None, 128)               0         \n",
      "_________________________________________________________________\n",
      "dense_23 (Dense)             (None, 128)               16512     \n",
      "_________________________________________________________________\n",
      "activation_23 (Activation)   (None, 128)               0         \n",
      "_________________________________________________________________\n",
      "dense_24 (Dense)             (None, 64)                8256      \n",
      "_________________________________________________________________\n",
      "activation_24 (Activation)   (None, 64)                0         \n",
      "_________________________________________________________________\n",
      "dense_25 (Dense)             (None, 3)                 195       \n",
      "_________________________________________________________________\n",
      "activation_25 (Activation)   (None, 3)                 0         \n",
      "=================================================================\n",
      "Total params: 129,027\n",
      "Trainable params: 129,027\n",
      "Non-trainable params: 0\n",
      "_________________________________________________________________\n",
      "None\n"
     ]
    }
   ],
   "source": [
    "BetNet = Network(pca_matches.shape[1])\n",
    "BetNet.load_weights(\"weights-improvement-400-0.48.hdf5\")  # Most recent weights\n",
    "\n",
    "predictions = pd.DataFrame(columns=['home_prob', 'draw_prob', 'away_prob'])\n",
    "\n",
    "for r, match in pca_matches.iterrows():\n",
    "    net_pred = BetNet.model.predict(np.array([match.values]))[0]\n",
    "    predictions.loc[r, 'home_prob'] = net_pred[0]\n",
    "    predictions.loc[r, 'draw_prob'] = net_pred[1]\n",
    "    predictions.loc[r, 'away_prob'] = net_pred[2]"
   ]
  },
  {
   "cell_type": "code",
   "execution_count": 39,
   "metadata": {
    "collapsed": true
   },
   "outputs": [],
   "source": [
    "home_, draw_, away_ = (0, 1, 2)\n",
    "\n",
    "def get_result_corresponding_to_betting_org(org):\n",
    "    for result, odds_orgs in enumerate(all_odds_labels):\n",
    "        if org in odds_orgs:\n",
    "            return result\n",
    "\n",
    "\n",
    "def get_bet_org_highest_exp(odds, predictions):\n",
    "    best_exp, best_org, best_odds, chosen_result = 0, None, 0, None\n",
    "    for org, odds_ in odds.iteritems():\n",
    "        result = get_result_corresponding_to_betting_org(org)\n",
    "        exp = odds_ * predictions[result]\n",
    "        if exp > best_exp:\n",
    "            best_exp, best_org, best_odds, chosen_result = exp, org, odds_, result\n",
    "            \n",
    "    return chosen_result, best_org\n",
    "\n",
    "\n",
    "def get_bet_org_highest_prob(odds, predictions):\n",
    "    chosen_result = int(np.argmax(predictions.values))\n",
    "    best_org = pd.Series.argmax(odds[all_odds_labels[chosen_result]])\n",
    "    # print(best_org, ['home', 'draw', 'away'][chosen_result], odds[best_org])\n",
    "    return chosen_result, best_org\n",
    "    \n",
    "    \n",
    "def get_bet(odds, predictions, funds):\n",
    "    bet_side, bet_org = get_bet_org_highest_prob(odds, predictions) # get_bet_org_highest_exp(odds, predictions)\n",
    "    # bet_amount = np.sqrt(funds) * odds[bet_org] * predictions[bet_side]\n",
    "    # bet_amount = min(funds/10, bet_amount)\n",
    "    bet_amount = min(funds / 10, 100000 / odds[bet_org])\n",
    "                      \n",
    "    return bet_amount, bet_side, bet_org\n",
    "\n",
    "\n",
    "def get_profit(bet_amount, bet_side, odds, labels_row):\n",
    "    if labels_row[bet_side]:\n",
    "        return bet_amount * odds - bet_amount\n",
    "    else:\n",
    "        return -bet_amount"
   ]
  },
  {
   "cell_type": "code",
   "execution_count": 40,
   "metadata": {
    "scrolled": true
   },
   "outputs": [
    {
     "name": "stdout",
     "output_type": "stream",
     "text": [
      "[50, 62.5, 56.25, 59.45625, 53.510625, 48.1595625, 43.34360625, 39.009245625, 39.984476765625, 43.58307967453125, 39.224771707078126, 46.0891067558168, 41.48019608023512, 37.33217647221161, 33.59895882499045, 30.2390629424914, 32.50699266317825, 35.757691929496076, 32.18192273654647, 28.96373046289182, 26.06735741660264, 27.631398861598797, 28.18402683883077, 25.365624154947696, 22.829061739452925, 20.546155565507632, 18.491540008956868, 22.467221110882594, 20.220498999794334, 27.90428861971618, 25.113859757744564, 26.495122044420516, 27.819878146641543, 28.932673272507206, 29.42452871813983, 26.482075846325845, 23.83386826169326, 21.450481435523937, 26.770200831533874, 31.722687985367642, 28.55041918683088, 25.69537726814779, 27.160013772432215, 24.444012395188995, 21.999611155670095, 25.40955088479896, 22.868595796319063, 20.58173621668716, 20.84929878750409, 21.245435464466667, 27.364120878233066]\n",
      "initial funds: $50.00\n",
      "final funds: $27.36\n",
      "profit: $-22.64\n",
      "profit percent: -45.27%\n",
      "predicted 22 of 369 matches correctly\n",
      "prediction percent: 5.96%\n",
      "lasted 369 of 520 matches before dropping below $1\n",
      "made it through 70.96% of matches before dropping below 1 dollar\n"
     ]
    }
   ],
   "source": [
    "funds = 50\n",
    "initial_funds = funds\n",
    "\n",
    "n_correct = 0\n",
    "\n",
    "funds_list = [50]\n",
    "\n",
    "for r in range(320, 370):#509):  # 2017 / 2018 season\n",
    "    bet_amount, bet_side, bet_org = get_bet(matches.loc[r], predictions.loc[r], funds)\n",
    "    odds = matches.loc[r, bet_org]\n",
    "    profit = get_profit(bet_amount, bet_side, odds, labels.loc[r])\n",
    "#     print(funds, bet_amount, profit)\n",
    "    funds += profit\n",
    "    funds_list.append(funds)\n",
    "    \n",
    "    if funds < 1:\n",
    "        break\n",
    "\n",
    "    if profit > 0:\n",
    "        n_correct += 1\n",
    "        \n",
    "print(funds_list)\n",
    "    \n",
    "profit = funds - initial_funds\n",
    "print('initial funds: ${:.2f}'.format(initial_funds))\n",
    "print('final funds: ${:.2f}'.format(funds))\n",
    "print('profit: ${0:.2f}'.format(profit))\n",
    "print('profit percent: {0:.2f}%'.format(profit * 100 / initial_funds))\n",
    "print('predicted {} of {} matches correctly'.format(n_correct, r))\n",
    "print('prediction percent: {0:.2f}%'.format(n_correct * 100 / r))\n",
    "print('lasted {} of {} matches before dropping below $1'.format(r, len(matches)))\n",
    "print('made it through {0:.2f}% of matches before dropping below 1 dollar'.format(100 * r / len(matches)))"
   ]
  },
  {
   "cell_type": "code",
   "execution_count": null,
   "metadata": {
    "collapsed": true
   },
   "outputs": [],
   "source": []
  }
 ],
 "metadata": {
  "kernelspec": {
   "display_name": "Python 3",
   "language": "python",
   "name": "python3"
  },
  "language_info": {
   "codemirror_mode": {
    "name": "ipython",
    "version": 3
   },
   "file_extension": ".py",
   "mimetype": "text/x-python",
   "name": "python",
   "nbconvert_exporter": "python",
   "pygments_lexer": "ipython3",
   "version": "3.6.3"
  }
 },
 "nbformat": 4,
 "nbformat_minor": 2
}
