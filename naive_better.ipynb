{
 "cells": [
  {
   "cell_type": "code",
   "execution_count": 9,
   "metadata": {
    "collapsed": true
   },
   "outputs": [],
   "source": [
    "import pandas as pd\n",
    "import numpy as np"
   ]
  },
  {
   "cell_type": "code",
   "execution_count": 13,
   "metadata": {},
   "outputs": [],
   "source": [
    "recent_matches = pd.read_csv('recent_seasons_unnormalized.csv')\n",
    "labels = pd.read_csv('labels_recent_seasons.csv')\n",
    "\n",
    "recent_matches = recent_matches.replace(-1, np.nan)\n",
    "labels = labels.replace(-1, np.nan)"
   ]
  },
  {
   "cell_type": "code",
   "execution_count": 10,
   "metadata": {
    "collapsed": true
   },
   "outputs": [],
   "source": [
    "home_odds_labels = ['B365H', 'BWH', 'IWH', 'LBH', 'PSH', 'WHH', 'SJH', 'VCH', 'GBH', 'BSH']\n",
    "draw_odds_labels = ['B365D', 'BWD', 'IWD', 'LBD', 'PSD', 'WHD', 'SJD', 'VCD', 'GBD', 'BSD']\n",
    "away_odds_labels = ['B365A', 'BWA', 'IWA', 'LBA', 'PSA', 'WHA', 'SJA', 'VCA', 'GBA', 'BSA']\n",
    "all_odds_labels = [home_odds_labels, draw_odds_labels, away_odds_labels]\n",
    "combined_odds_labels = home_odds_labels + draw_odds_labels + away_odds_labels\n",
    "\n",
    "matches = recent_matches[combined_odds_labels]"
   ]
  },
  {
   "cell_type": "code",
   "execution_count": null,
   "metadata": {},
   "outputs": [],
   "source": [
    "home_, draw_, away_ = (0, 1, 2)\n",
    "\n",
    "def get_org(odds, predictions):\n",
    "    \n",
    "\n",
    "\n",
    "def get_bet(odds, predictions, funds):\n",
    "    home_exp = get_exp_factor(max(odds[home_odds_labels]), predictions[home_])\n",
    "    draw_exp = get_exp_factor(max(odds[draw_odds_labels]), predictions[draw_])\n",
    "    away_exp = get_exp_factor(max(odds[away_odds_labels]), predictions[away_])\n",
    "    \n",
    "    \n",
    "    return amount, organization, match_result"
   ]
  },
  {
   "cell_type": "code",
   "execution_count": 14,
   "metadata": {},
   "outputs": [
    {
     "name": "stdout",
     "output_type": "stream",
     "text": [
      "__home_team_fifa_api_id\n",
      "__home_buildUpPlaySpeed\n",
      "__home_buildUpPlaySpeedClass\n",
      "__home_buildUpPlayDribbling\n",
      "__home_buildUpPlayDribblingClass\n",
      "__home_buildUpPlayPassing\n",
      "__home_buildUpPlayPassingClass\n",
      "__home_buildUpPlayPositioningClass\n",
      "__home_chanceCreationPassing\n",
      "__home_chanceCreationPassingClass\n",
      "__home_chanceCreationCrossing\n",
      "__home_chanceCreationCrossingClass\n",
      "__home_chanceCreationShooting\n",
      "__home_chanceCreationShootingClass\n",
      "__home_chanceCreationPositioningClass\n",
      "__home_defencePressure\n",
      "__home_defencePressureClass\n",
      "__home_defenceAggression\n",
      "__home_defenceAggressionClass\n",
      "__home_defenceTeamWidth\n",
      "__home_defenceTeamWidthClass\n",
      "__home_defenceDefenderLineClass\n",
      "22\n"
     ]
    }
   ],
   "source": [
    "lst = ['__home_team_fifa_api_id',\n",
    " '__home_buildUpPlaySpeed', '__home_buildUpPlaySpeedClass',\n",
    " '__home_buildUpPlayDribbling', '__home_buildUpPlayDribblingClass',\n",
    " '__home_buildUpPlayPassing', '__home_buildUpPlayPassingClass',\n",
    " '__home_buildUpPlayPositioningClass', '__home_chanceCreationPassing',\n",
    " '__home_chanceCreationPassingClass', '__home_chanceCreationCrossing',\n",
    " '__home_chanceCreationCrossingClass', '__home_chanceCreationShooting',\n",
    " '__home_chanceCreationShootingClass',\n",
    " '__home_chanceCreationPositioningClass', '__home_defencePressure',\n",
    " '__home_defencePressureClass', '__home_defenceAggression',\n",
    " '__home_defenceAggressionClass', '__home_defenceTeamWidth',\n",
    " '__home_defenceTeamWidthClass', '__home_defenceDefenderLineClass']\n",
    "\n",
    "for l in lst:\n",
    "    print(l)\n",
    "    \n",
    "print(len(lst))"
   ]
  },
  {
   "cell_type": "code",
   "execution_count": null,
   "metadata": {
    "collapsed": true
   },
   "outputs": [],
   "source": []
  }
 ],
 "metadata": {
  "kernelspec": {
   "display_name": "Python 3",
   "language": "python",
   "name": "python3"
  },
  "language_info": {
   "codemirror_mode": {
    "name": "ipython",
    "version": 3
   },
   "file_extension": ".py",
   "mimetype": "text/x-python",
   "name": "python",
   "nbconvert_exporter": "python",
   "pygments_lexer": "ipython3",
   "version": "3.6.3"
  }
 },
 "nbformat": 4,
 "nbformat_minor": 2
}
