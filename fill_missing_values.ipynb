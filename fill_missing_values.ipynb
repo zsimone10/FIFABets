{
 "cells": [
  {
   "cell_type": "code",
   "execution_count": 24,
   "metadata": {
    "collapsed": true
   },
   "outputs": [],
   "source": [
    "import pandas as pd\n",
    "import numpy as np\n",
    "import re\n",
    "import scipy\n",
    "import fancyimpute as fi"
   ]
  },
  {
   "cell_type": "code",
   "execution_count": 25,
   "metadata": {
    "collapsed": true
   },
   "outputs": [],
   "source": [
    "most_matches = pd.read_csv('most_seasons_unnormalized.csv')\n",
    "recent_matches = pd.read_csv('recent_seasons_unnormalized.csv')\n",
    "\n",
    "most_matches = most_matches.fillna(np.nan)\n",
    "most_matches = most_matches.replace(-1, np.nan)\n",
    "\n",
    "recent_matches = recent_matches.fillna(np.nan)\n",
    "recent_matches = recent_matches.replace(-1, np.nan)\n",
    "\n",
    "most_matches.drop(list(most_matches.filter(regex='Unnamed: ')), axis=1, inplace=True)\n",
    "recent_matches.drop(list(recent_matches.filter(regex='Unnamed: ')), axis=1, inplace=True)\n",
    "\n",
    "all_matches = most_matches.append(recent_matches, ignore_index=True)"
   ]
  },
  {
   "cell_type": "code",
   "execution_count": 26,
   "metadata": {
    "collapsed": true
   },
   "outputs": [],
   "source": [
    "betting_odds_home = ['B365H', 'BWH', 'IWH', 'LBH', 'PSH', 'WHH', 'SJH', 'VCH', 'GBH', 'BSH']\n",
    "betting_odds_draw = ['B365D', 'BWD', 'IWD', 'LBD', 'PSD', 'WHD', 'SJD', 'VCD', 'GBD', 'BSD']\n",
    "betting_odds_away = ['B365A', 'BWA', 'IWA', 'LBA', 'PSA', 'WHA', 'SJA', 'VCA', 'GBA', 'BSA']\n",
    "betting_odds_all = [betting_odds_home, betting_odds_draw, betting_odds_away]\n",
    "betting_odds_combined = betting_odds_home + betting_odds_draw + betting_odds_away\n",
    "\n",
    "rows = all_matches[pd.isnull(all_matches[betting_odds_combined]).any(axis=1)]"
   ]
  },
  {
   "cell_type": "code",
   "execution_count": 27,
   "metadata": {
    "collapsed": true
   },
   "outputs": [],
   "source": [
    "# for index, row in rows.iterrows():\n",
    "#     if index % 1000 == 0:\n",
    "#         print(index)\n",
    "#     for betting_odds in betting_odds_all:\n",
    "#         mean = np.mean(row[betting_odds])\n",
    "#         all_matches.loc[index, row[betting_odds].index[row[betting_odds].isnull().tolist()]] = mean\n"
   ]
  },
  {
   "cell_type": "code",
   "execution_count": 28,
   "metadata": {},
   "outputs": [],
   "source": [
    "home = all_matches.filter(regex='__home_')\n",
    "all_matches[home.columns] = home"
   ]
  },
  {
   "cell_type": "code",
   "execution_count": 22,
   "metadata": {},
   "outputs": [
    {
     "name": "stdout",
     "output_type": "stream",
     "text": [
      "Imputing row 1/16566 with 1 missing, elapsed time: 49.186\n",
      "Imputing row 101/16566 with 1 missing, elapsed time: 49.224\n",
      "Imputing row 201/16566 with 1 missing, elapsed time: 49.260\n",
      "Imputing row 301/16566 with 1 missing, elapsed time: 49.279\n",
      "Imputing row 401/16566 with 1 missing, elapsed time: 49.292\n",
      "Imputing row 501/16566 with 1 missing, elapsed time: 49.310\n",
      "Imputing row 601/16566 with 1 missing, elapsed time: 49.328\n",
      "Imputing row 701/16566 with 0 missing, elapsed time: 49.342\n",
      "Imputing row 801/16566 with 0 missing, elapsed time: 49.342\n",
      "Imputing row 901/16566 with 0 missing, elapsed time: 49.342\n",
      "Imputing row 1001/16566 with 0 missing, elapsed time: 49.342\n",
      "Imputing row 1101/16566 with 1 missing, elapsed time: 49.352\n",
      "Imputing row 1201/16566 with 1 missing, elapsed time: 49.369\n",
      "Imputing row 1301/16566 with 1 missing, elapsed time: 49.387\n",
      "Imputing row 1401/16566 with 1 missing, elapsed time: 49.412\n",
      "Imputing row 1501/16566 with 1 missing, elapsed time: 49.430\n",
      "Imputing row 1601/16566 with 1 missing, elapsed time: 49.447\n",
      "Imputing row 1701/16566 with 1 missing, elapsed time: 49.468\n",
      "Imputing row 1801/16566 with 1 missing, elapsed time: 49.485\n",
      "Imputing row 1901/16566 with 1 missing, elapsed time: 49.500\n",
      "Imputing row 2001/16566 with 1 missing, elapsed time: 49.520\n",
      "Imputing row 2101/16566 with 1 missing, elapsed time: 49.543\n",
      "Imputing row 2201/16566 with 1 missing, elapsed time: 49.561\n",
      "Imputing row 2301/16566 with 1 missing, elapsed time: 49.576\n",
      "Imputing row 2401/16566 with 1 missing, elapsed time: 49.592\n",
      "Imputing row 2501/16566 with 1 missing, elapsed time: 49.608\n",
      "Imputing row 2601/16566 with 0 missing, elapsed time: 49.620\n",
      "Imputing row 2701/16566 with 0 missing, elapsed time: 49.620\n",
      "Imputing row 2801/16566 with 0 missing, elapsed time: 49.621\n",
      "Imputing row 2901/16566 with 0 missing, elapsed time: 49.621\n",
      "Imputing row 3001/16566 with 0 missing, elapsed time: 49.622\n",
      "Imputing row 3101/16566 with 0 missing, elapsed time: 49.626\n",
      "Imputing row 3201/16566 with 0 missing, elapsed time: 49.627\n",
      "Imputing row 3301/16566 with 0 missing, elapsed time: 49.627\n",
      "Imputing row 3401/16566 with 1 missing, elapsed time: 49.644\n",
      "Imputing row 3501/16566 with 1 missing, elapsed time: 49.662\n",
      "Imputing row 3601/16566 with 1 missing, elapsed time: 49.678\n",
      "Imputing row 3701/16566 with 1 missing, elapsed time: 49.691\n",
      "Imputing row 3801/16566 with 1 missing, elapsed time: 49.706\n",
      "Imputing row 3901/16566 with 1 missing, elapsed time: 49.723\n",
      "Imputing row 4001/16566 with 1 missing, elapsed time: 49.739\n",
      "Imputing row 4101/16566 with 1 missing, elapsed time: 49.754\n",
      "Imputing row 4201/16566 with 1 missing, elapsed time: 49.768\n",
      "Imputing row 4301/16566 with 1 missing, elapsed time: 49.784\n",
      "Imputing row 4401/16566 with 1 missing, elapsed time: 49.799\n",
      "Imputing row 4501/16566 with 1 missing, elapsed time: 49.817\n",
      "Imputing row 4601/16566 with 1 missing, elapsed time: 49.833\n",
      "Imputing row 4701/16566 with 1 missing, elapsed time: 49.854\n",
      "Imputing row 4801/16566 with 1 missing, elapsed time: 49.871\n",
      "Imputing row 4901/16566 with 0 missing, elapsed time: 49.879\n",
      "Imputing row 5001/16566 with 0 missing, elapsed time: 49.880\n",
      "Imputing row 5101/16566 with 0 missing, elapsed time: 49.880\n",
      "Imputing row 5201/16566 with 0 missing, elapsed time: 49.880\n",
      "Imputing row 5301/16566 with 0 missing, elapsed time: 49.881\n",
      "Imputing row 5401/16566 with 0 missing, elapsed time: 49.881\n",
      "Imputing row 5501/16566 with 0 missing, elapsed time: 49.881\n",
      "Imputing row 5601/16566 with 0 missing, elapsed time: 49.881\n",
      "Imputing row 5701/16566 with 1 missing, elapsed time: 49.897\n",
      "Imputing row 5801/16566 with 1 missing, elapsed time: 49.910\n",
      "Imputing row 5901/16566 with 1 missing, elapsed time: 49.924\n",
      "Imputing row 6001/16566 with 1 missing, elapsed time: 49.938\n",
      "Imputing row 6101/16566 with 1 missing, elapsed time: 49.954\n",
      "Imputing row 6201/16566 with 1 missing, elapsed time: 49.968\n",
      "Imputing row 6301/16566 with 1 missing, elapsed time: 49.986\n",
      "Imputing row 6401/16566 with 1 missing, elapsed time: 50.002\n",
      "Imputing row 6501/16566 with 1 missing, elapsed time: 50.015\n",
      "Imputing row 6601/16566 with 1 missing, elapsed time: 50.029\n",
      "Imputing row 6701/16566 with 1 missing, elapsed time: 50.046\n",
      "Imputing row 6801/16566 with 1 missing, elapsed time: 50.064\n",
      "Imputing row 6901/16566 with 0 missing, elapsed time: 50.072\n",
      "Imputing row 7001/16566 with 0 missing, elapsed time: 50.072\n",
      "Imputing row 7101/16566 with 0 missing, elapsed time: 50.072\n",
      "Imputing row 7201/16566 with 0 missing, elapsed time: 50.072\n",
      "Imputing row 7301/16566 with 0 missing, elapsed time: 50.073\n",
      "Imputing row 7401/16566 with 0 missing, elapsed time: 50.073\n",
      "Imputing row 7501/16566 with 1 missing, elapsed time: 50.083\n",
      "Imputing row 7601/16566 with 1 missing, elapsed time: 50.098\n",
      "Imputing row 7701/16566 with 1 missing, elapsed time: 50.114\n",
      "Imputing row 7801/16566 with 1 missing, elapsed time: 50.130\n",
      "Imputing row 7901/16566 with 1 missing, elapsed time: 50.147\n",
      "Imputing row 8001/16566 with 1 missing, elapsed time: 50.161\n",
      "Imputing row 8101/16566 with 1 missing, elapsed time: 50.176\n",
      "Imputing row 8201/16566 with 1 missing, elapsed time: 50.192\n",
      "Imputing row 8301/16566 with 1 missing, elapsed time: 50.203\n",
      "Imputing row 8401/16566 with 1 missing, elapsed time: 50.218\n",
      "Imputing row 8501/16566 with 1 missing, elapsed time: 50.236\n",
      "Imputing row 8601/16566 with 1 missing, elapsed time: 50.254\n",
      "Imputing row 8701/16566 with 1 missing, elapsed time: 50.272\n",
      "Imputing row 8801/16566 with 1 missing, elapsed time: 50.288\n",
      "Imputing row 8901/16566 with 1 missing, elapsed time: 50.303\n",
      "Imputing row 9001/16566 with 0 missing, elapsed time: 50.309\n",
      "Imputing row 9101/16566 with 0 missing, elapsed time: 50.309\n",
      "Imputing row 9201/16566 with 0 missing, elapsed time: 50.310\n",
      "Imputing row 9301/16566 with 0 missing, elapsed time: 50.310\n",
      "Imputing row 9401/16566 with 0 missing, elapsed time: 50.310\n",
      "Imputing row 9501/16566 with 0 missing, elapsed time: 50.310\n",
      "Imputing row 9601/16566 with 0 missing, elapsed time: 50.310\n",
      "Imputing row 9701/16566 with 1 missing, elapsed time: 50.312\n",
      "Imputing row 9801/16566 with 1 missing, elapsed time: 50.328\n",
      "Imputing row 9901/16566 with 1 missing, elapsed time: 50.342\n",
      "Imputing row 10001/16566 with 1 missing, elapsed time: 50.357\n",
      "Imputing row 10101/16566 with 1 missing, elapsed time: 50.373\n",
      "Imputing row 10201/16566 with 1 missing, elapsed time: 50.400\n",
      "Imputing row 10301/16566 with 1 missing, elapsed time: 50.427\n",
      "Imputing row 10401/16566 with 1 missing, elapsed time: 50.455\n",
      "Imputing row 10501/16566 with 1 missing, elapsed time: 50.483\n",
      "Imputing row 10601/16566 with 1 missing, elapsed time: 50.517\n",
      "Imputing row 10701/16566 with 1 missing, elapsed time: 50.555\n",
      "Imputing row 10801/16566 with 1 missing, elapsed time: 50.589\n",
      "Imputing row 10901/16566 with 0 missing, elapsed time: 50.623\n",
      "Imputing row 11001/16566 with 0 missing, elapsed time: 50.624\n",
      "Imputing row 11101/16566 with 0 missing, elapsed time: 50.624\n",
      "Imputing row 11201/16566 with 0 missing, elapsed time: 50.625\n",
      "Imputing row 11301/16566 with 1 missing, elapsed time: 50.643\n",
      "Imputing row 11401/16566 with 1 missing, elapsed time: 50.694\n",
      "Imputing row 11501/16566 with 1 missing, elapsed time: 50.719\n",
      "Imputing row 11601/16566 with 1 missing, elapsed time: 50.748\n",
      "Imputing row 11701/16566 with 1 missing, elapsed time: 50.807\n",
      "Imputing row 11801/16566 with 1 missing, elapsed time: 50.829\n",
      "Imputing row 11901/16566 with 1 missing, elapsed time: 50.853\n",
      "Imputing row 12001/16566 with 1 missing, elapsed time: 50.877\n",
      "Imputing row 12101/16566 with 1 missing, elapsed time: 50.903\n",
      "Imputing row 12201/16566 with 0 missing, elapsed time: 50.906\n",
      "Imputing row 12301/16566 with 0 missing, elapsed time: 50.906\n",
      "Imputing row 12401/16566 with 0 missing, elapsed time: 50.907\n",
      "Imputing row 12501/16566 with 0 missing, elapsed time: 50.907\n",
      "Imputing row 12601/16566 with 1 missing, elapsed time: 50.922\n",
      "Imputing row 12701/16566 with 1 missing, elapsed time: 50.947\n",
      "Imputing row 12801/16566 with 1 missing, elapsed time: 50.979\n",
      "Imputing row 12901/16566 with 1 missing, elapsed time: 51.028\n",
      "Imputing row 13001/16566 with 1 missing, elapsed time: 51.074\n",
      "Imputing row 13101/16566 with 1 missing, elapsed time: 51.112\n",
      "Imputing row 13201/16566 with 1 missing, elapsed time: 51.152\n",
      "Imputing row 13301/16566 with 1 missing, elapsed time: 51.187\n",
      "Imputing row 13401/16566 with 1 missing, elapsed time: 51.214\n",
      "Imputing row 13501/16566 with 0 missing, elapsed time: 51.223\n",
      "Imputing row 13601/16566 with 0 missing, elapsed time: 51.224\n",
      "Imputing row 13701/16566 with 0 missing, elapsed time: 51.224\n",
      "Imputing row 13801/16566 with 1 missing, elapsed time: 51.233\n",
      "Imputing row 13901/16566 with 1 missing, elapsed time: 51.264\n",
      "Imputing row 14001/16566 with 1 missing, elapsed time: 51.292\n"
     ]
    },
    {
     "name": "stdout",
     "output_type": "stream",
     "text": [
      "Imputing row 14101/16566 with 1 missing, elapsed time: 51.317\n",
      "Imputing row 14201/16566 with 1 missing, elapsed time: 51.348\n",
      "Imputing row 14301/16566 with 1 missing, elapsed time: 51.427\n",
      "Imputing row 14401/16566 with 1 missing, elapsed time: 51.458\n",
      "Imputing row 14501/16566 with 1 missing, elapsed time: 51.525\n",
      "Imputing row 14601/16566 with 1 missing, elapsed time: 51.593\n",
      "Imputing row 14701/16566 with 1 missing, elapsed time: 51.629\n",
      "Imputing row 14801/16566 with 1 missing, elapsed time: 51.663\n",
      "Imputing row 14901/16566 with 1 missing, elapsed time: 51.711\n",
      "Imputing row 15001/16566 with 1 missing, elapsed time: 51.769\n",
      "Imputing row 15101/16566 with 1 missing, elapsed time: 51.823\n",
      "Imputing row 15201/16566 with 1 missing, elapsed time: 51.888\n",
      "Imputing row 15301/16566 with 0 missing, elapsed time: 51.950\n",
      "Imputing row 15401/16566 with 0 missing, elapsed time: 51.950\n",
      "Imputing row 15501/16566 with 0 missing, elapsed time: 51.951\n",
      "Imputing row 15601/16566 with 0 missing, elapsed time: 51.951\n",
      "Imputing row 15701/16566 with 0 missing, elapsed time: 51.951\n",
      "Imputing row 15801/16566 with 0 missing, elapsed time: 51.951\n",
      "Imputing row 15901/16566 with 0 missing, elapsed time: 51.952\n",
      "Imputing row 16001/16566 with 0 missing, elapsed time: 51.952\n",
      "Imputing row 16101/16566 with 0 missing, elapsed time: 51.953\n",
      "Imputing row 16201/16566 with 0 missing, elapsed time: 51.953\n",
      "Imputing row 16301/16566 with 0 missing, elapsed time: 51.953\n",
      "Imputing row 16401/16566 with 0 missing, elapsed time: 51.954\n",
      "Imputing row 16501/16566 with 0 missing, elapsed time: 51.955\n"
     ]
    }
   ],
   "source": [
    "home_filled = fi.KNN().fit_transform(home)"
   ]
  },
  {
   "cell_type": "code",
   "execution_count": 23,
   "metadata": {},
   "outputs": [
    {
     "ename": "ValueError",
     "evalue": "Shape of passed values is (21, 16566), indices imply (72, 16566)",
     "output_type": "error",
     "traceback": [
      "\u001b[0;31m---------------------------------------------------------------------------\u001b[0m",
      "\u001b[0;31mValueError\u001b[0m                                Traceback (most recent call last)",
      "\u001b[0;32m/anaconda3/lib/python3.6/site-packages/pandas/core/internals.py\u001b[0m in \u001b[0;36mcreate_block_manager_from_blocks\u001b[0;34m(blocks, axes)\u001b[0m\n\u001b[1;32m   4293\u001b[0m                 blocks = [make_block(values=blocks[0],\n\u001b[0;32m-> 4294\u001b[0;31m                                      placement=slice(0, len(axes[0])))]\n\u001b[0m\u001b[1;32m   4295\u001b[0m \u001b[0;34m\u001b[0m\u001b[0m\n",
      "\u001b[0;32m/anaconda3/lib/python3.6/site-packages/pandas/core/internals.py\u001b[0m in \u001b[0;36mmake_block\u001b[0;34m(values, placement, klass, ndim, dtype, fastpath)\u001b[0m\n\u001b[1;32m   2718\u001b[0m \u001b[0;34m\u001b[0m\u001b[0m\n\u001b[0;32m-> 2719\u001b[0;31m     \u001b[0;32mreturn\u001b[0m \u001b[0mklass\u001b[0m\u001b[0;34m(\u001b[0m\u001b[0mvalues\u001b[0m\u001b[0;34m,\u001b[0m \u001b[0mndim\u001b[0m\u001b[0;34m=\u001b[0m\u001b[0mndim\u001b[0m\u001b[0;34m,\u001b[0m \u001b[0mfastpath\u001b[0m\u001b[0;34m=\u001b[0m\u001b[0mfastpath\u001b[0m\u001b[0;34m,\u001b[0m \u001b[0mplacement\u001b[0m\u001b[0;34m=\u001b[0m\u001b[0mplacement\u001b[0m\u001b[0;34m)\u001b[0m\u001b[0;34m\u001b[0m\u001b[0m\n\u001b[0m\u001b[1;32m   2720\u001b[0m \u001b[0;34m\u001b[0m\u001b[0m\n",
      "\u001b[0;32m/anaconda3/lib/python3.6/site-packages/pandas/core/internals.py\u001b[0m in \u001b[0;36m__init__\u001b[0;34m(self, values, placement, ndim, fastpath)\u001b[0m\n\u001b[1;32m    114\u001b[0m                              'implies %d' % (len(self.values),\n\u001b[0;32m--> 115\u001b[0;31m                                              len(self.mgr_locs)))\n\u001b[0m\u001b[1;32m    116\u001b[0m \u001b[0;34m\u001b[0m\u001b[0m\n",
      "\u001b[0;31mValueError\u001b[0m: Wrong number of items passed 21, placement implies 72",
      "\nDuring handling of the above exception, another exception occurred:\n",
      "\u001b[0;31mValueError\u001b[0m                                Traceback (most recent call last)",
      "\u001b[0;32m<ipython-input-23-3c97c160df38>\u001b[0m in \u001b[0;36m<module>\u001b[0;34m()\u001b[0m\n\u001b[0;32m----> 1\u001b[0;31m \u001b[0mhome_filled\u001b[0m \u001b[0;34m=\u001b[0m \u001b[0mpd\u001b[0m\u001b[0;34m.\u001b[0m\u001b[0mDataFrame\u001b[0m\u001b[0;34m(\u001b[0m\u001b[0mdata\u001b[0m\u001b[0;34m=\u001b[0m\u001b[0mhome_filled\u001b[0m\u001b[0;34m,\u001b[0m \u001b[0mcolumns\u001b[0m\u001b[0;34m=\u001b[0m\u001b[0mall_matches\u001b[0m\u001b[0;34m.\u001b[0m\u001b[0mcolumns\u001b[0m\u001b[0;34m,\u001b[0m \u001b[0mindex\u001b[0m\u001b[0;34m=\u001b[0m\u001b[0mall_matches\u001b[0m\u001b[0;34m.\u001b[0m\u001b[0mindex\u001b[0m\u001b[0;34m)\u001b[0m\u001b[0;34m\u001b[0m\u001b[0m\n\u001b[0m\u001b[1;32m      2\u001b[0m \u001b[0mhome_filled\u001b[0m\u001b[0;34m[\u001b[0m\u001b[0;34m-\u001b[0m\u001b[0;36m10\u001b[0m\u001b[0;34m:\u001b[0m\u001b[0;34m]\u001b[0m\u001b[0;34m\u001b[0m\u001b[0m\n",
      "\u001b[0;32m/anaconda3/lib/python3.6/site-packages/pandas/core/frame.py\u001b[0m in \u001b[0;36m__init__\u001b[0;34m(self, data, index, columns, dtype, copy)\u001b[0m\n\u001b[1;32m    304\u001b[0m             \u001b[0;32melse\u001b[0m\u001b[0;34m:\u001b[0m\u001b[0;34m\u001b[0m\u001b[0m\n\u001b[1;32m    305\u001b[0m                 mgr = self._init_ndarray(data, index, columns, dtype=dtype,\n\u001b[0;32m--> 306\u001b[0;31m                                          copy=copy)\n\u001b[0m\u001b[1;32m    307\u001b[0m         \u001b[0;32melif\u001b[0m \u001b[0misinstance\u001b[0m\u001b[0;34m(\u001b[0m\u001b[0mdata\u001b[0m\u001b[0;34m,\u001b[0m \u001b[0;34m(\u001b[0m\u001b[0mlist\u001b[0m\u001b[0;34m,\u001b[0m \u001b[0mtypes\u001b[0m\u001b[0;34m.\u001b[0m\u001b[0mGeneratorType\u001b[0m\u001b[0;34m)\u001b[0m\u001b[0;34m)\u001b[0m\u001b[0;34m:\u001b[0m\u001b[0;34m\u001b[0m\u001b[0m\n\u001b[1;32m    308\u001b[0m             \u001b[0;32mif\u001b[0m \u001b[0misinstance\u001b[0m\u001b[0;34m(\u001b[0m\u001b[0mdata\u001b[0m\u001b[0;34m,\u001b[0m \u001b[0mtypes\u001b[0m\u001b[0;34m.\u001b[0m\u001b[0mGeneratorType\u001b[0m\u001b[0;34m)\u001b[0m\u001b[0;34m:\u001b[0m\u001b[0;34m\u001b[0m\u001b[0m\n",
      "\u001b[0;32m/anaconda3/lib/python3.6/site-packages/pandas/core/frame.py\u001b[0m in \u001b[0;36m_init_ndarray\u001b[0;34m(self, values, index, columns, dtype, copy)\u001b[0m\n\u001b[1;32m    481\u001b[0m             \u001b[0mvalues\u001b[0m \u001b[0;34m=\u001b[0m \u001b[0mmaybe_infer_to_datetimelike\u001b[0m\u001b[0;34m(\u001b[0m\u001b[0mvalues\u001b[0m\u001b[0;34m)\u001b[0m\u001b[0;34m\u001b[0m\u001b[0m\n\u001b[1;32m    482\u001b[0m \u001b[0;34m\u001b[0m\u001b[0m\n\u001b[0;32m--> 483\u001b[0;31m         \u001b[0;32mreturn\u001b[0m \u001b[0mcreate_block_manager_from_blocks\u001b[0m\u001b[0;34m(\u001b[0m\u001b[0;34m[\u001b[0m\u001b[0mvalues\u001b[0m\u001b[0;34m]\u001b[0m\u001b[0;34m,\u001b[0m \u001b[0;34m[\u001b[0m\u001b[0mcolumns\u001b[0m\u001b[0;34m,\u001b[0m \u001b[0mindex\u001b[0m\u001b[0;34m]\u001b[0m\u001b[0;34m)\u001b[0m\u001b[0;34m\u001b[0m\u001b[0m\n\u001b[0m\u001b[1;32m    484\u001b[0m \u001b[0;34m\u001b[0m\u001b[0m\n\u001b[1;32m    485\u001b[0m     \u001b[0;34m@\u001b[0m\u001b[0mproperty\u001b[0m\u001b[0;34m\u001b[0m\u001b[0m\n",
      "\u001b[0;32m/anaconda3/lib/python3.6/site-packages/pandas/core/internals.py\u001b[0m in \u001b[0;36mcreate_block_manager_from_blocks\u001b[0;34m(blocks, axes)\u001b[0m\n\u001b[1;32m   4301\u001b[0m         \u001b[0mblocks\u001b[0m \u001b[0;34m=\u001b[0m \u001b[0;34m[\u001b[0m\u001b[0mgetattr\u001b[0m\u001b[0;34m(\u001b[0m\u001b[0mb\u001b[0m\u001b[0;34m,\u001b[0m \u001b[0;34m'values'\u001b[0m\u001b[0;34m,\u001b[0m \u001b[0mb\u001b[0m\u001b[0;34m)\u001b[0m \u001b[0;32mfor\u001b[0m \u001b[0mb\u001b[0m \u001b[0;32min\u001b[0m \u001b[0mblocks\u001b[0m\u001b[0;34m]\u001b[0m\u001b[0;34m\u001b[0m\u001b[0m\n\u001b[1;32m   4302\u001b[0m         \u001b[0mtot_items\u001b[0m \u001b[0;34m=\u001b[0m \u001b[0msum\u001b[0m\u001b[0;34m(\u001b[0m\u001b[0mb\u001b[0m\u001b[0;34m.\u001b[0m\u001b[0mshape\u001b[0m\u001b[0;34m[\u001b[0m\u001b[0;36m0\u001b[0m\u001b[0;34m]\u001b[0m \u001b[0;32mfor\u001b[0m \u001b[0mb\u001b[0m \u001b[0;32min\u001b[0m \u001b[0mblocks\u001b[0m\u001b[0;34m)\u001b[0m\u001b[0;34m\u001b[0m\u001b[0m\n\u001b[0;32m-> 4303\u001b[0;31m         \u001b[0mconstruction_error\u001b[0m\u001b[0;34m(\u001b[0m\u001b[0mtot_items\u001b[0m\u001b[0;34m,\u001b[0m \u001b[0mblocks\u001b[0m\u001b[0;34m[\u001b[0m\u001b[0;36m0\u001b[0m\u001b[0;34m]\u001b[0m\u001b[0;34m.\u001b[0m\u001b[0mshape\u001b[0m\u001b[0;34m[\u001b[0m\u001b[0;36m1\u001b[0m\u001b[0;34m:\u001b[0m\u001b[0;34m]\u001b[0m\u001b[0;34m,\u001b[0m \u001b[0maxes\u001b[0m\u001b[0;34m,\u001b[0m \u001b[0me\u001b[0m\u001b[0;34m)\u001b[0m\u001b[0;34m\u001b[0m\u001b[0m\n\u001b[0m\u001b[1;32m   4304\u001b[0m \u001b[0;34m\u001b[0m\u001b[0m\n\u001b[1;32m   4305\u001b[0m \u001b[0;34m\u001b[0m\u001b[0m\n",
      "\u001b[0;32m/anaconda3/lib/python3.6/site-packages/pandas/core/internals.py\u001b[0m in \u001b[0;36mconstruction_error\u001b[0;34m(tot_items, block_shape, axes, e)\u001b[0m\n\u001b[1;32m   4278\u001b[0m         \u001b[0;32mraise\u001b[0m \u001b[0mValueError\u001b[0m\u001b[0;34m(\u001b[0m\u001b[0;34m\"Empty data passed with indices specified.\"\u001b[0m\u001b[0;34m)\u001b[0m\u001b[0;34m\u001b[0m\u001b[0m\n\u001b[1;32m   4279\u001b[0m     raise ValueError(\"Shape of passed values is {0}, indices imply {1}\".format(\n\u001b[0;32m-> 4280\u001b[0;31m         passed, implied))\n\u001b[0m\u001b[1;32m   4281\u001b[0m \u001b[0;34m\u001b[0m\u001b[0m\n\u001b[1;32m   4282\u001b[0m \u001b[0;34m\u001b[0m\u001b[0m\n",
      "\u001b[0;31mValueError\u001b[0m: Shape of passed values is (21, 16566), indices imply (72, 16566)"
     ]
    }
   ],
   "source": [
    "home_filled = pd.DataFrame(data=home_filled, columns=all_matches.columns, index=all_matches.index)\n",
    "home_filled[-10:]"
   ]
  },
  {
   "cell_type": "code",
   "execution_count": null,
   "metadata": {
    "collapsed": true
   },
   "outputs": [],
   "source": [
    "cols_to_normalize = ['__home_buildUpPlaySpeed', '__home_buildUpPlayDribbling',\n",
    "                     '__home_buildUpPlayPassing',\n",
    "                     '__home_chanceCreationPassing', '__home_chanceCreationCrossing',\n",
    "                     '__home_chanceCreationShooting', '__home_defencePressure',\n",
    "                     '__home_defenceAggression', '__home_defenceTeamWidth',\n",
    "                     '__away_buildUpPlaySpeed', \n",
    "                     '__away_buildUpPlayDribbling', '__away_buildUpPlayPassing',\n",
    "                     '__away_chanceCreationPassing', '__away_chanceCreationCrossing',\n",
    "                     '__away_chanceCreationShooting', '__away_defencePressure',\n",
    "                     '__away_defenceAggression', '__away_defenceTeamWidth']\n",
    "\n",
    "all_matches_filled_normed = all_matches_filled.copy()\n",
    "\n",
    "# Normalize columns\n",
    "for column in cols_to_normalize:\n",
    "    col = np.array(all_matches_filled[column].values.astype(np.float))\n",
    "    all_matches_filled_normed[column] = (col - col.min()) / (col.max() - col.min())"
   ]
  },
  {
   "cell_type": "code",
   "execution_count": null,
   "metadata": {
    "collapsed": true
   },
   "outputs": [],
   "source": [
    "most_matches_filled = all_matches_filled[:len(most_matches)]\n",
    "most_matches_filled_normed = all_matches_filled_normed[:len(most_matches)]\n",
    "\n",
    "recent_matches_filled = all_matches_filled[-len(recent_matches):]\n",
    "recent_matches_filled_normed = all_matches_filled_normed[-len(recent_matches):]"
   ]
  },
  {
   "cell_type": "code",
   "execution_count": null,
   "metadata": {
    "collapsed": true
   },
   "outputs": [],
   "source": [
    "most_matches_filled.to_csv('most_seasons_filled_unnormalized.csv', index=False)\n",
    "recent_matches_filled.to_csv('recent_seasons_filled_unnormalized.csv', index=False)\n",
    "\n",
    "most_matches_filled_normed.to_csv('most_seasons_filled_normalized.csv', index=False)\n",
    "recent_matches_filled_normed.to_csv('recent_seasons_filled_normalized.csv', index=False)"
   ]
  },
  {
   "cell_type": "code",
   "execution_count": null,
   "metadata": {
    "collapsed": true
   },
   "outputs": [],
   "source": []
  }
 ],
 "metadata": {
  "kernelspec": {
   "display_name": "Python 3",
   "language": "python",
   "name": "python3"
  },
  "language_info": {
   "codemirror_mode": {
    "name": "ipython",
    "version": 3
   },
   "file_extension": ".py",
   "mimetype": "text/x-python",
   "name": "python",
   "nbconvert_exporter": "python",
   "pygments_lexer": "ipython3",
   "version": "3.6.3"
  }
 },
 "nbformat": 4,
 "nbformat_minor": 2
}
