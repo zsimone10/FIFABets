{
 "cells": [
  {
   "cell_type": "code",
   "execution_count": 1,
   "metadata": {
    "collapsed": true
   },
   "outputs": [],
   "source": [
    "from bs4 import BeautifulSoup as bs\n",
    "import requests\n",
    "import pandas as pd"
   ]
  },
  {
   "cell_type": "code",
   "execution_count": 2,
   "metadata": {},
   "outputs": [],
   "source": [
    "base_url = 'https://sofifa.com'\n",
    "\n",
    "ids = {'Manchester City': 3466, 'Chelsea': 3475, 'Liverpool': 3462, \n",
    "       'Manchester United': 3457, 'Tottenham Hotspur': 3470, 'Liverpool': 3459,\n",
    "       'Everton': 3467, 'Burnley': 4234, 'Leicester City': 8021, 'West Ham United': 3463,\n",
    "       'Southampton': 6504, 'Crystal Palace': 7261, 'Watford': 8784, 'Fulham': 3474,\n",
    "       'Newcastle United': 3458, 'Wolverhampton Wanderers': 4225,\n",
    "       'Brighton & Hove Albion': -1, 'Bournemouth': 8779, 'Huddersfield Town': -1, \n",
    "       'Cardiff City': 8344, 'Arsenal': 3459, 'Stoke City': 3472,\n",
    "       'West Bromwich Albion': 3460, 'Swansea City': 5744}\n",
    "       \n",
    "       \n",
    "team_api_ids = {'Manchester City': 8456, 'Chelsea': 8455, 'Liverpool': 8650, \n",
    "                'Manchester United': 10260, 'Tottenham Hotspur': 8586, 'Liverpool': 9825,\n",
    "                'Everton': 8668, 'Burnley': 8191, 'Leicester City': 8197, 'West Ham United': 8654,\n",
    "                'Southampton': 8466, 'Crystal Palace': 9826, 'Watford': 9817, 'Fulham': 9879,\n",
    "                'Newcastle United': 10261, 'Wolverhampton Wanderers': 8602, \n",
    "                'Brighton & Hove Albion': -1, 'Bournemouth': 8678, 'Huddersfield Town': -1, \n",
    "                'Cardiff City': 7276, 'Arsenal': 9825, 'Stoke City': 10194, \n",
    "                'West Bromwich Albion': 8659, 'Swansea City': 10003}\n",
    "\n",
    "column_headers = ['id', 'team_fifa_api_id', 'date', 'buildUpPlaySpeed', 'buildUpPlaySpeedClass',\n",
    "                 'BuildUpPlayDribbling', 'BuildUpPlayDribblingClass', 'BuildupPlayPositioningClass',\n",
    "                 'buildUpPlayPassing', 'buildUpPlayPassingClass', 'buildUpPlayPositioningClass',\n",
    "                 'chanceCreationClass', 'chanceCreationCrossing', 'chanceCreationCrossingClass',\n",
    "                 'chanceCreationShooting', 'chanceCreationShootingClass',\n",
    "                 'chanceCreationPositioningClass', 'defencePressure', 'defencePressureClass',\n",
    "                 'defenceAgression', 'defenceAgressionClass', 'defenceTeamWidth',\n",
    "                 'defenceTeamWidthClass', 'defenceDefenderLineClass']"
   ]
  },
  {
   "cell_type": "code",
   "execution_count": 3,
   "metadata": {},
   "outputs": [],
   "source": [
    "def soup_maker(url):\n",
    "    r = requests.get(url)\n",
    "    markup = r.content\n",
    "    soup = bs(markup, 'lxml')\n",
    "    return soup\n",
    "\n",
    "\n",
    "def find_team_links(soup):\n",
    "    table = soup.find('table', {'class': 'table table-hover persist-area'})  # Table of teams\n",
    "    tbody = table.find('tbody')\n",
    "    all_a = tbody.find_all('a', {'class': ''})\n",
    "    return [base_url + link['href'] + year_extension for link in all_a if '/team/' in link['href']]\n",
    "\n",
    "\n",
    "def get_team_attributes(soup):\n",
    "    df_row = pd.DataFrame(columns=column_headers)\n",
    "    info = soup.find('div', {'class': 'info'}).find('h1').text.split('(')\n",
    "    team_name = info[0].strip()\n",
    "    team_fifa_api_id = info[1].split(': ')[1].split(')')[0]\n",
    "    \n",
    "    df_row['id'] = ids[team_name]\n",
    "    df_row['team_api_id'] = team_api_ids[team_name]\n",
    "    df_row['team_fifa_api_id'] = team_fifa_api_id\n",
    "    \n",
    "    card_div = soup.find('div', {'class': 'card mb-2'})\n",
    "    attributes_div = card_div.find('div', {'class': 'card-body'})\n",
    "    data = attributes_div.find_all('dd')\n",
    "    start = False\n",
    "    i = 3\n",
    "    for datum in data:\n",
    "        category = datum.find('span', {'class': ['tooltip', 'multiline']})\n",
    "        if start or 'Speed' in category.text:\n",
    "            start = True\n",
    "            category = 'Dribbling' if category is None else category.text\n",
    "            vals = datum.find('span', {'class': 'float-right'}).text\n",
    "            if category != 'Positioning' and category != 'Defender Line':\n",
    "                vals = vals.split()\n",
    "            else:\n",
    "                vals = [vals]\n",
    "            for val in vals:\n",
    "                df_row[column_headers[i]] = val\n",
    "                i += 1\n",
    "    return df_row\n",
    "\n",
    "\n",
    "def get_all_team_attributes(team_urls):\n",
    "    team_attrs = pd.DataFrame(columns=column_headers)\n",
    "    for team_url in team_urls:\n",
    "        team_soup = soup_maker(team_url)\n",
    "        df_row = get_team_attributes(team_soup)\n",
    "        team_attrs = team_attrs.append(df_row)\n",
    "    return team_attrs"
   ]
  },
  {
   "cell_type": "code",
   "execution_count": 4,
   "metadata": {},
   "outputs": [
    {
     "name": "stdout",
     "output_type": "stream",
     "text": [
      "Empty DataFrame\n",
      "Columns: [BuildUpPlayDribbling, BuildUpPlayDribblingClass, BuildupPlayPositioningClass, buildUpPlayPassing, buildUpPlayPassingClass, buildUpPlayPositioningClass, buildUpPlaySpeed, buildUpPlaySpeedClass, chanceCreationClass, chanceCreationCrossing, chanceCreationCrossingClass, chanceCreationPositioningClass, chanceCreationShooting, chanceCreationShootingClass, date, defenceAgression, defenceAgressionClass, defenceDefenderLineClass, defencePressure, defencePressureClass, defenceTeamWidth, defenceTeamWidthClass, id, team_api_id, team_fifa_api_id]\n",
      "Index: []\n",
      "\n",
      "[0 rows x 25 columns]\n"
     ]
    }
   ],
   "source": [
    "team_attributes = pd.DataFrame(columns=column_headers)\n",
    "years = [2018, 2019]\n",
    "for year in years:\n",
    "    if year == 2018:\n",
    "        year_extension = '?lg%5B0%5D=13&v=18&e=158865&set=true' # BPL Fifa 18, Sept 28 2017\n",
    "        date = '2018-09-28 00:00:00'\n",
    "    elif year == 2019:\n",
    "        year_extension = '?lg%5B0%5D=13&v=19&e=159229&set=true'  # BPL Fifa 19, Sept 27 2018\n",
    "        date = '2019-07-28 00:00:00'\n",
    "        \n",
    "    teams_url = base_url + '/teams' + year_extension\n",
    "    teams_soup = soup_maker(teams_url)\n",
    "    team_urls = find_team_links(teams_soup)\n",
    "    df = get_all_team_attributes(team_urls)\n",
    "    df['date'] = date\n",
    "    team_attributes = team_attributes.append(df)\n",
    "\n",
    "print(team_attributes)"
   ]
  },
  {
   "cell_type": "code",
   "execution_count": null,
   "metadata": {
    "collapsed": true
   },
   "outputs": [],
   "source": []
  }
 ],
 "metadata": {
  "kernelspec": {
   "display_name": "Python 3",
   "language": "python",
   "name": "python3"
  },
  "language_info": {
   "codemirror_mode": {
    "name": "ipython",
    "version": 3
   },
   "file_extension": ".py",
   "mimetype": "text/x-python",
   "name": "python",
   "nbconvert_exporter": "python",
   "pygments_lexer": "ipython3",
   "version": "3.6.3"
  }
 },
 "nbformat": 4,
 "nbformat_minor": 2
}
